{
 "cells": [
  {
   "cell_type": "code",
   "execution_count": 1,
   "metadata": {},
   "outputs": [
    {
     "name": "stdout",
     "output_type": "stream",
     "text": [
      "Requirement already satisfied: reportlab in d:\\conda_installation_dont_delete\\lib\\site-packages (3.5.23)\n",
      "Requirement already satisfied: pillow>=4.0.0 in d:\\conda_installation_dont_delete\\lib\\site-packages (from reportlab) (5.4.1)\n"
     ]
    }
   ],
   "source": [
    "!pip install reportlab"
   ]
  },
  {
   "cell_type": "code",
   "execution_count": 9,
   "metadata": {},
   "outputs": [],
   "source": [
    "from reportlab.platypus import SimpleDocTemplate, Paragraph\n",
    "from reportlab.pdfgen import canvas\n",
    "from reportlab.lib.styles import getSampleStyleSheet"
   ]
  },
  {
   "cell_type": "code",
   "execution_count": 10,
   "metadata": {},
   "outputs": [],
   "source": [
    "from reportlab.lib.units import *\n",
    "from reportlab.lib.pagesizes import * # contains variables named with page size which contain tuple of width \n",
    "                                      # and height, in points"
   ]
  },
  {
   "cell_type": "code",
   "execution_count": 4,
   "metadata": {},
   "outputs": [],
   "source": [
    "# Testing reportlab\n",
    "c=canvas.Canvas('test.pdf')\n",
    "\n",
    "c.drawString(300,800,text='Hello')\n",
    "\n",
    "c.showPage()\n",
    "\n",
    "c.save()"
   ]
  },
  {
   "cell_type": "code",
   "execution_count": 5,
   "metadata": {},
   "outputs": [],
   "source": [
    "# Different fonts available in reportlab\n",
    "from reportlab.lib.pagesizes import letter \n",
    "from reportlab.pdfgen import canvas\n",
    "def font_demo ( my_canvas , fonts ): \n",
    "    pos_y = 750\n",
    "    for font in fonts :\n",
    "        my_canvas.setFont( font , 12 )\n",
    "        my_canvas . drawString ( 30 , pos_y , font )\n",
    "        pos_y -= 15 \n",
    "if __name__ == '__main__' : \n",
    "    my_canvas = canvas . Canvas ( \"fonts.pdf\" , pagesize = letter )\n",
    "    fonts = my_canvas . getAvailableFonts ()\n",
    "    font_demo ( my_canvas , fonts )\n",
    "    my_canvas . save ()"
   ]
  },
  {
   "cell_type": "code",
   "execution_count": 6,
   "metadata": {},
   "outputs": [],
   "source": [
    "def coord ( x , y , height , unit = cm ):\n",
    "    x , y = x * unit , height - y * unit \n",
    "    return x , y\n",
    "\n",
    "def generator(month):\n",
    "    c=canvas.Canvas('Report.pdf',pagesize=A4)\n",
    "    width,height=A4\n",
    "    title='CampusX Monthly Report ('+month+')'\n",
    "    print('Width:',width,'\\nHeight:',height)\n",
    "    c.setFont('Helvetica',24)\n",
    "    c.drawCentredString(width/2,800,title)\n",
    "    #c.drawCentredString(width/2,50,title)\n",
    "    c.drawImage('kunal.png',*coord(17,7,height),width=100,height=100)\n",
    "    c.drawImage('task_marks_kunal.png',*coord(10,20,height),width=200,height=200)\n",
    "    #c.drawImage('kunal.png',*coord(5,5,height),width=100,height=100)\n",
    "    c.save()"
   ]
  },
  {
   "cell_type": "code",
   "execution_count": 7,
   "metadata": {},
   "outputs": [
    {
     "name": "stdout",
     "output_type": "stream",
     "text": [
      "Width: 595.2755905511812 \n",
      "Height: 841.8897637795277\n"
     ]
    }
   ],
   "source": [
    "generator('September')"
   ]
  },
  {
   "cell_type": "code",
   "execution_count": 18,
   "metadata": {},
   "outputs": [],
   "source": [
    "def test_flowable():\n",
    "    pdf=SimpleDocTemplate('flowable.pdf')"
   ]
  },
  {
   "cell_type": "code",
   "execution_count": 22,
   "metadata": {},
   "outputs": [],
   "source": [
    "# Frame using demo\n",
    "from reportlab.lib.pagesizes import letter \n",
    "from reportlab.lib.styles import getSampleStyleSheet \n",
    "from reportlab.lib.units import inch \n",
    "from reportlab.pdfgen.canvas import Canvas \n",
    "from reportlab.platypus import Paragraph , Frame \n",
    "def frame_demo (): \n",
    "    my_canvas = Canvas( \"frame_demo.pdf\", pagesize = letter)\n",
    "    styles = getSampleStyleSheet() \n",
    "    normal = styles['Normal'] \n",
    "    heading = styles['Heading1'] \n",
    "    flowables = [] \n",
    "    flowables.append(Paragraph('Heading #1',heading))\n",
    "    flowables.append(Paragraph('Paragraph #1',normal)) \n",
    "    right_flowables = [] \n",
    "    right_flowables . append ( Paragraph ( 'Heading #2' , heading )) \n",
    "    right_flowables . append ( Paragraph ( 'ipsum lorem' , normal )) \n",
    "    left_frame = Frame ( inch , inch , width = 3 * inch , height = 9 * inch , showBoundary = 1 ) \n",
    "    right_frame = Frame ( 4 * inch , inch , width = 3 * inch , height = 9 * inch ) \n",
    "    left_frame . addFromList ( flowables , my_canvas ) \n",
    "    right_frame . addFromList ( right_flowables , my_canvas ) \n",
    "    my_canvas . save () \n",
    "if __name__ == '__main__' : \n",
    "    frame_demo ()"
   ]
  },
  {
   "cell_type": "code",
   "execution_count": 31,
   "metadata": {},
   "outputs": [
    {
     "data": {
      "text/plain": [
       "{'Normal': <ParagraphStyle 'Normal'>,\n",
       " 'BodyText': <ParagraphStyle 'BodyText'>,\n",
       " 'Italic': <ParagraphStyle 'Italic'>,\n",
       " 'Heading1': <ParagraphStyle 'Heading1'>,\n",
       " 'Title': <ParagraphStyle 'Title'>,\n",
       " 'Heading2': <ParagraphStyle 'Heading2'>,\n",
       " 'Heading3': <ParagraphStyle 'Heading3'>,\n",
       " 'Heading4': <ParagraphStyle 'Heading4'>,\n",
       " 'Heading5': <ParagraphStyle 'Heading5'>,\n",
       " 'Heading6': <ParagraphStyle 'Heading6'>,\n",
       " 'Bullet': <ParagraphStyle 'Bullet'>,\n",
       " 'Definition': <ParagraphStyle 'Definition'>,\n",
       " 'Code': <ParagraphStyle 'Code'>,\n",
       " 'UnorderedList': <ListStyle 'UnorderedList'>,\n",
       " 'OrderedList': <ListStyle 'OrderedList'>}"
      ]
     },
     "execution_count": 31,
     "metadata": {},
     "output_type": "execute_result"
    }
   ],
   "source": [
    "styles.byName"
   ]
  },
  {
   "cell_type": "code",
   "execution_count": 56,
   "metadata": {},
   "outputs": [],
   "source": [
    "from reportlab.lib.enums import TA_CENTER,TA_JUSTIFY,TA_LEFT,TA_RIGHT\n",
    "from reportlab.platypus import Spacer"
   ]
  },
  {
   "cell_type": "code",
   "execution_count": 59,
   "metadata": {},
   "outputs": [],
   "source": [
    "def generate_report(month,name):\n",
    "    doc=SimpleDocTemplate('Report_flowable.pdf',pagesize=A4,topMargin=10,bottomMargin=20,leftMargin=25,rightMargin=25)\n",
    "    flowables=[]\n",
    "    style=getSampleStyleSheet()\n",
    "    style['Heading1'].leading=35\n",
    "    style['Normal'].fontName='Helvetica'\n",
    "    style['Normal'].fontSize=14\n",
    "    style['Normal'].leading=20\n",
    "    title=\"\"\"<para align=center><font face=helvetica size=24><b>CampusX Monthly Report</b>\n",
    "            <br/>\n",
    "            Month: {m}<br/></font></para>\"\"\".format(m=month)\n",
    "    flowables.append(Paragraph(title,style=style['Heading1']))\n",
    "    flowables.append(Spacer(1,20))\n",
    "    nameText=\"\"\"Name: \"\"\"+name\n",
    "    #overview_of_report=\n",
    "    flowables.append(Paragraph(nameText,style=style['Normal']))\n",
    "    doc.build(flowables)\n",
    "if __name__=='__main__':\n",
    "    generate_report('August','Kunal')"
   ]
  },
  {
   "cell_type": "code",
   "execution_count": null,
   "metadata": {},
   "outputs": [],
   "source": []
  }
 ],
 "metadata": {
  "kernelspec": {
   "display_name": "Python 3",
   "language": "python",
   "name": "python3"
  },
  "language_info": {
   "codemirror_mode": {
    "name": "ipython",
    "version": 3
   },
   "file_extension": ".py",
   "mimetype": "text/x-python",
   "name": "python",
   "nbconvert_exporter": "python",
   "pygments_lexer": "ipython3",
   "version": "3.6.8"
  }
 },
 "nbformat": 4,
 "nbformat_minor": 2
}
