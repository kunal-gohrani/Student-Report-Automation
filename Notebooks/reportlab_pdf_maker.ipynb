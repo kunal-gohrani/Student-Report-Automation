{
 "cells": [
  {
   "cell_type": "code",
   "execution_count": 1,
   "metadata": {},
   "outputs": [],
   "source": [
    "#!pip install reportlab"
   ]
  },
  {
   "cell_type": "code",
   "execution_count": 2,
   "metadata": {},
   "outputs": [
    {
     "name": "stdout",
     "output_type": "stream",
     "text": [
      "Download. 100\n"
     ]
    }
   ],
   "source": [
    "from reportlab.platypus import SimpleDocTemplate, Paragraph\n",
    "from reportlab.pdfgen import canvas\n",
    "from reportlab.lib.styles import getSampleStyleSheet\n",
    "import AnalysisScript,SupportFunctions\n",
    "from reportlab.lib.units import *\n",
    "from reportlab.lib.pagesizes import *\n",
    "from reportlab.lib.enums import TA_CENTER,TA_JUSTIFY,TA_LEFT,TA_RIGHT\n",
    "from reportlab.platypus import Spacer, Table, PageBreak,LongTable,TableStyle\n",
    "import numpy as np\n",
    "from reportlab.lib import colors"
   ]
  },
  {
   "cell_type": "code",
   "execution_count": 3,
   "metadata": {},
   "outputs": [],
   "source": [
    " # contains variables named with page size which contain tuple of width \n",
    "                                      # and height, in points"
   ]
  },
  {
   "cell_type": "code",
   "execution_count": 4,
   "metadata": {},
   "outputs": [],
   "source": [
    "# Testing reportlab\n",
    "c=canvas.Canvas('test.pdf')\n",
    "\n",
    "c.drawString(300,800,text='Hello')\n",
    "\n",
    "c.showPage()\n",
    "\n",
    "c.save()"
   ]
  },
  {
   "cell_type": "code",
   "execution_count": 5,
   "metadata": {},
   "outputs": [],
   "source": [
    "# Different fonts available in reportlab\n",
    "from reportlab.lib.pagesizes import letter \n",
    "from reportlab.pdfgen import canvas\n",
    "def font_demo ( my_canvas , fonts ): \n",
    "    pos_y = 750\n",
    "    for font in fonts :\n",
    "        my_canvas.setFont( font , 12 )\n",
    "        my_canvas . drawString ( 30 , pos_y , font )\n",
    "        pos_y -= 15 \n",
    "if __name__ == '__main__' : \n",
    "    my_canvas = canvas . Canvas ( \"fonts.pdf\" , pagesize = letter )\n",
    "    fonts = my_canvas . getAvailableFonts ()\n",
    "    font_demo ( my_canvas , fonts )\n",
    "    my_canvas . save ()"
   ]
  },
  {
   "cell_type": "code",
   "execution_count": 6,
   "metadata": {},
   "outputs": [],
   "source": [
    "def coord ( x , y , height , unit = cm ):\n",
    "    x , y = x * unit , height - y * unit \n",
    "    return x , y\n",
    "\n",
    "def generator(month):\n",
    "    c=canvas.Canvas('Report.pdf',pagesize=A4)\n",
    "    width,height=A4\n",
    "    title='CampusX Monthly Report ('+month+')'\n",
    "    print('Width:',width,'\\nHeight:',height)\n",
    "    c.setFont('Helvetica',24)\n",
    "    c.drawCentredString(width/2,800,title)\n",
    "    #c.drawCentredString(width/2,50,title)\n",
    "    c.drawImage('kunal.png',*coord(17,7,height),width=100,height=100)\n",
    "    c.drawImage('task_marks_kunal.png',*coord(10,20,height),width=200,height=200)\n",
    "    #c.drawImage('kunal.png',*coord(5,5,height),width=100,height=100)\n",
    "    c.save()"
   ]
  },
  {
   "cell_type": "code",
   "execution_count": 7,
   "metadata": {},
   "outputs": [
    {
     "name": "stdout",
     "output_type": "stream",
     "text": [
      "Width: 595.2755905511812 \n",
      "Height: 841.8897637795277\n"
     ]
    }
   ],
   "source": [
    "generator('September')"
   ]
  },
  {
   "cell_type": "code",
   "execution_count": 8,
   "metadata": {},
   "outputs": [],
   "source": [
    "def test_flowable():\n",
    "    pdf=SimpleDocTemplate('flowable.pdf')"
   ]
  },
  {
   "cell_type": "code",
   "execution_count": 9,
   "metadata": {},
   "outputs": [],
   "source": [
    "# Frame using demo\n",
    "from reportlab.lib.pagesizes import letter \n",
    "from reportlab.lib.styles import getSampleStyleSheet \n",
    "from reportlab.lib.units import inch \n",
    "from reportlab.pdfgen.canvas import Canvas \n",
    "from reportlab.platypus import Paragraph , Frame \n",
    "def frame_demo (): \n",
    "    my_canvas = Canvas( \"frame_demo.pdf\", pagesize = letter)\n",
    "    styles = getSampleStyleSheet() \n",
    "    normal = styles['Normal'] \n",
    "    heading = styles['Heading1'] \n",
    "    flowables = [] \n",
    "    flowables.append(Paragraph('Heading #1',heading))\n",
    "    flowables.append(Paragraph('Paragraph #1',normal)) \n",
    "    right_flowables = [] \n",
    "    right_flowables . append ( Paragraph ( 'Heading #2' , heading )) \n",
    "    right_flowables . append ( Paragraph ( 'ipsum lorem' , normal )) \n",
    "    left_frame = Frame ( inch , inch , width = 3 * inch , height = 9 * inch , showBoundary = 1 ) \n",
    "    right_frame = Frame ( 4 * inch , inch , width = 3 * inch , height = 9 * inch ) \n",
    "    left_frame . addFromList ( flowables , my_canvas ) \n",
    "    right_frame . addFromList ( right_flowables , my_canvas ) \n",
    "    my_canvas . save () \n",
    "if __name__ == '__main__' : \n",
    "    frame_demo ()"
   ]
  },
  {
   "cell_type": "code",
   "execution_count": 36,
   "metadata": {},
   "outputs": [],
   "source": []
  },
  {
   "cell_type": "code",
   "execution_count": 11,
   "metadata": {},
   "outputs": [],
   "source": [
    "def month_check(month,month_list):\n",
    "    if (month in month_list):\n",
    "        return True\n",
    "    else:\n",
    "        return False"
   ]
  },
  {
   "cell_type": "code",
   "execution_count": 12,
   "metadata": {},
   "outputs": [],
   "source": [
    "def row_table_builder(dataframe):\n",
    "    row_list=[]\n",
    "    columns=dataframe.columns.tolist()\n",
    "    row_list.append(columns)\n",
    "    for i,row in dataframe.iterrows():\n",
    "        data=[]\n",
    "        for j in columns:\n",
    "            data.append(str(row[j]))\n",
    "        row_list.append(data)\n",
    "    return row_list"
   ]
  },
  {
   "cell_type": "code",
   "execution_count": 13,
   "metadata": {},
   "outputs": [],
   "source": [
    "def row_table_builder2(dataframe):\n",
    "    row_list=np.array([])\n",
    "    row_list=np.append(row_list,dataframe.columns.tolist()).reshape(1,8)\n",
    "    data=np.array(dataframe).astype('str')\n",
    "    #print(data)\n",
    "    for i in np.nditer(data,flags = ['external_loop'], order = 'C'):\n",
    "        row_list=np.append(row_list,[i],axis=0)\n",
    "    return row_list.tolist()"
   ]
  },
  {
   "cell_type": "code",
   "execution_count": 19,
   "metadata": {},
   "outputs": [
    {
     "data": {
      "text/plain": [
       "[['Student',\n",
       "  'Points',\n",
       "  'Total Marks',\n",
       "  'Task Marks',\n",
       "  'MyDay Marks',\n",
       "  'Knowledge Sharing Marks',\n",
       "  'Late Submissions',\n",
       "  'Tasks Won'],\n",
       " ['Kunal', '354.5', '378', '241.5', '107.0', '6.0', '5', '4'],\n",
       " ['Ujjainee', '348.0', '380', '233.0', '105.0', '10.0', '4', '0'],\n",
       " ['Shakib', '343.0', '376', '232.0', '101.0', '10.0', '4', '3'],\n",
       " ['Surabhi', '339.0', '373', '231.0', '105.0', '3.0', '4', '1'],\n",
       " ['Purbita', '337.0', '371', '231.0', '97.0', '9.0', '6', '2'],\n",
       " ['Vishal', '328.5', '365', '228.5', '98.0', '2.0', '2', '2'],\n",
       " ['Chandrima', '327.0', '379', '213.0', '103.0', '11.0', '6', '3'],\n",
       " ['Sonali', '326.5', '367', '224.5', '92.0', '10.0', '5', '2'],\n",
       " ['Siddhishikha', '326.5', '375', '226.5', '92.0', '8.0', '8', '0'],\n",
       " ['Dipam', '326.5', '374', '217.5', '105.0', '4.0', '2', '1'],\n",
       " ['Durga', '326.0', '379', '222.0', '99.0', '5.0', '6', '1'],\n",
       " ['Sharika', '315.0', '352', '218.0', '95.0', '2.0', '7', '2'],\n",
       " ['Apurwa', '308.0', '354', '219.0', '89.0', '0.0', '5', '3'],\n",
       " ['Kaushal', '287.0', '342', '200.0', '84.0', '3.0', '6', '1'],\n",
       " ['Swaastick', '273.0', '312', '206.0', '67.0', '0.0', '12', '2'],\n",
       " ['Roumyak', '267.5', '314', '218.5', '49.0', '0.0', '6', '2'],\n",
       " ['Shantanu', '263.0', '293', '225.0', '38.0', '0.0', '7', '2'],\n",
       " ['Prasoon', '252.0', '293', '184.0', '62.0', '6.0', '7', '0'],\n",
       " ['Arya', '207.5', '244', '183.5', '24.0', '0.0', '9', '2'],\n",
       " ['Bhavna', '205.0', '245', '170.0', '30.0', '5.0', '3', '0'],\n",
       " ['Anjali', '152.0', '179', '143.0', '9.0', '0.0', '1', '1'],\n",
       " ['Wrick', '60.5', '89', '46.5', '14.0', '0.0', '3', '0'],\n",
       " ['Sudhanshu', '8.5', '12', '6.5', '2.0', '0.0', '1', '0']]"
      ]
     },
     "execution_count": 19,
     "metadata": {},
     "output_type": "execute_result"
    }
   ],
   "source": [
    "row_table_builder2(a.total_marks_leaderboard()[0])"
   ]
  },
  {
   "cell_type": "code",
   "execution_count": 78,
   "metadata": {},
   "outputs": [
    {
     "data": {
      "text/plain": [
       "[['Student',\n",
       "  'Points',\n",
       "  'Total Marks',\n",
       "  'Task Marks',\n",
       "  'MyDay Marks',\n",
       "  'Knowledge Sharing Marks',\n",
       "  'Late Submissions',\n",
       "  'Tasks Won']]"
      ]
     },
     "execution_count": 78,
     "metadata": {},
     "output_type": "execute_result"
    }
   ],
   "source": [
    "row_table_builder(a.total_marks_leaderboard(month_name='June')[0])"
   ]
  },
  {
   "cell_type": "code",
   "execution_count": 30,
   "metadata": {},
   "outputs": [
    {
     "name": "stdout",
     "output_type": "stream",
     "text": [
      "Download. 100\n"
     ]
    }
   ],
   "source": [
    "a=AnalysisScript.Analysis()\n",
    "data=a.data"
   ]
  },
  {
   "cell_type": "code",
   "execution_count": 82,
   "metadata": {},
   "outputs": [],
   "source": [
    "def generate_report_monthly(month,name):\n",
    "    previous_month={'January':'December','February':'January','March':'February','April':'March','May':'April',\\\n",
    "                    'June':'May','July':'June','August':'July','September':'August','October':'September',\\\n",
    "                    'November':'October','December':'November'}\n",
    "    if month_check(month,a.months):\n",
    "        file_name=name+'_'+month+'.pdf'\n",
    "        doc=SimpleDocTemplate(file_name,pagesize=A4,topMargin=10,bottomMargin=20,leftMargin=25,rightMargin=25)\n",
    "        flowables=[]\n",
    "        style=getSampleStyleSheet()\n",
    "        \n",
    "        # Setting style\n",
    "        style['Heading1'].leading=35\n",
    "        style['Normal'].fontName='Helvetica'\n",
    "        style['Normal'].fontSize=12\n",
    "        style['Normal'].leading=20\n",
    "        \n",
    "        # title of the report\n",
    "        title=\"\"\"<para align=center><font face=helvetica size=24 color=blue><b>CampusX Monthly Report</b>\n",
    "                <br/></font></para>\"\"\"\n",
    "                #Month: {m}<br/></font></para>\"\"\".format(m=month)\n",
    "            \n",
    "        # Appending to flowables list\n",
    "        flowables.append(Paragraph(title,style=style['Heading1']))\n",
    "        flowables.append(Spacer(1,40))\n",
    "        \n",
    "        # greeting\n",
    "        nameText=\"\"\"<font face=Helvetica><b>Hi <i>{}</i>, This is your monthly report for the month of {}.</b></font>\"\"\".format(name,month)\n",
    "        \n",
    "        # Appending to flowables list\n",
    "        flowables.append(Paragraph(nameText,style=style['Normal']))\n",
    "        flowables.append(Spacer(1,40))\n",
    "        \n",
    "        # Extracting data for first table\n",
    "        rank=str(a.get_rank(name=name,month_name=month))\n",
    "        total_marks=str(a.get_total_marks(name=name,month_name=month))\n",
    "        late_submissions=str(SupportFunctions.get_count_late_submission(data=data,name=name,month_name=month))\n",
    "        task_won=str(SupportFunctions.get_count_task_won(data=data,name=name,month_name=month))\n",
    "        \n",
    "        # For myday and knowledge count, we need to check for null values, so below code checks for null values\n",
    "        # my day\n",
    "        myday_count=a.student_myday(name=name,month_name=month)[0]['Number of days'].values.tolist()\n",
    "        if len(myday_count)>0:\n",
    "            myday_count=myday_count[0]\n",
    "        else:\n",
    "            myday_count=0\n",
    "            \n",
    "        # knowledge\n",
    "        knowledge_sharing_count=a.student_knowledge_marks(name=name,month_name=month)[0]['Number of days'].values.tolist()\n",
    "        if len(knowledge_sharing_count)>0:\n",
    "            knowledge_sharing_count=knowledge_sharing_count[0]\n",
    "        else:\n",
    "            knowledge_sharing_count=0\n",
    "        initialColumns=['Rank','Total Marks','MyDay Count','Knowledge Sharing Count','Late Submissions','Task\\'s Won']\n",
    "        \n",
    "        # Creating first table and appending to flowables\n",
    "        initial_tbl_data=[initialColumns,[rank,total_marks,myday_count,knowledge_sharing_count,late_submissions,task_won]]\n",
    "        first_table=Table(initial_tbl_data,hAlign='CENTER')\n",
    "        tblstyle=TableStyle([('FONT',(0,0),(-1,0),'Helvetica-Bold',10)])\n",
    "        first_table.setStyle(tblstyle)\n",
    "        flowables.append(first_table)\n",
    "        flowables.append(Spacer(1,30))\n",
    "        \n",
    "        # Tasks\n",
    "        text=Paragraph('<para align=left><font face=helvetica size=15><b>Tasks:</b></font></para>',style=style['Heading2'])\n",
    "        flowables.append(text)\n",
    "        task_data=row_table_builder2(dataframe=a.student_task_marks(name=name,month_name=month)[0])\n",
    "        task_table=Table(task_data,hAlign='LEFT')\n",
    "        tblstyle=TableStyle([('FONT',(0,0),(-1,0),'Helvetica-Bold',10)])\n",
    "        task_table.setStyle(tblstyle)\n",
    "        flowables.append(task_table)\n",
    "        \n",
    "        # Leaderboard\n",
    "        #flowables.append(PageBreak())\n",
    "        flowables.append(Spacer(1,15))\n",
    "        text=Paragraph('<para align=left><font face=helvetica size=15><b>Leaderboard:</b></font></para>',style=style['Heading2'])\n",
    "        flowables.append(text)\n",
    "        leaderboard_monthly_table=row_table_builder2(dataframe=a.total_marks_leaderboard(month_name=month)[0])\n",
    "        leaderboard_monthly_table = LongTable(leaderboard_monthly_table,hAlign='CENTER')\n",
    "        tblstyle = TableStyle ([('FONT',(0,0),(-1,0),'Helvetica-Bold',9),\n",
    "                                ( 'FONT' , ( 0 ,1), ( - 1 , -1 ), 'Helvetica' , 6 ),\n",
    "                               ('BOX',(0,0),(-1,-1),0.5,colors.black),\n",
    "                               ('INNERGRID',(0,0),(-1,-1),0.5,colors.black)\n",
    "                                ])\n",
    "                               #( 'ROWBACKGROUNDS' , ( 0 , 1 ), ( - 1 , - 1 ), [ colors . gray , colors . white ]),\n",
    "                                #('COLBACKGROUNDS',(0,0),(-1,0),[colors.aqua])\n",
    "                               #])\n",
    "        leaderboard_monthly_table.setStyle(tblstyle)\n",
    "        flowables.append(leaderboard_monthly_table)\n",
    "        \n",
    "        flowables.append(PageBreak())\n",
    "        text=Paragraph('<para align=left><font face=helvetica size=15><b>Previous Month\\'s Leaderboard:</b></font></para>',style=style['Heading2'])\n",
    "        flowables.append(text)\n",
    "        flowables.append(Spacer(1,20))\n",
    "        leaderboard_prev_month_data=row_table_builder2(dataframe=a.total_marks_leaderboard(month_name=previous_month[month])[0])\n",
    "        leaderboard_prev_month_table=LongTable(leaderboard_prev_month_data,hAlign='CENTER')\n",
    "        tblstyle = TableStyle ([('FONT',(0,0),(-1,0),'Helvetica-Bold',9),\n",
    "                                ( 'FONT' , ( 0 ,1), ( - 1 , -1 ), 'Helvetica' , 6 ),\n",
    "                               ('BOX',(0,0),(-1,-1),0.5,colors.black),\n",
    "                               ('INNERGRID',(0,0),(-1,-1),0.5,colors.black)\n",
    "                                ])\n",
    "                               #( 'ROWBACKGROUNDS' , ( 0 , 1 ), ( - 1 , - 1 ), [ colors . gray , colors . white ]),\n",
    "                                #('COLBACKGROUNDS',(0,0),(-1,0),[colors.aqua])\n",
    "                               #])\n",
    "        leaderboard_prev_month_table.setStyle(tblstyle)\n",
    "        flowables.append(leaderboard_prev_month_table)\n",
    "#         leaderboard_global_data=row_table_builder2(dataframe=a.total_marks_leaderboard()[0])\n",
    "#         leaderboard_global_table = LongTable(leaderboard_global_data,hAlign='CENTER')\n",
    "#         tblstyle = TableStyle ([('FONT',(0,0),(-1,0),'Helvetica-Bold',9),\n",
    "#                                 ( 'FONT' , ( 0 ,1), ( - 1 , -1 ), 'Helvetica' , 6 ),\n",
    "#                                ('BOX',(0,0),(-1,-1),0.5,colors.black),\n",
    "#                                ('INNERGRID',(0,0),(-1,-1),0.5,colors.black)\n",
    "#                                 ])\n",
    "#                                #( 'ROWBACKGROUNDS' , ( 0 , 1 ), ( - 1 , - 1 ), [ colors . gray , colors . white ]),\n",
    "#                                 #('COLBACKGROUNDS',(0,0),(-1,0),[colors.aqua])\n",
    "#                                #])\n",
    "#         leaderboard_global_table.setStyle(tblstyle)\n",
    "#         flowables.append(PageBreak())\n",
    "#         flowables.append(leaderboard_global_table)\n",
    "        doc.build(flowables)\n",
    "        \n",
    "if __name__=='__main__':\n",
    "    generate_report_monthly('September','Kunal')"
   ]
  },
  {
   "cell_type": "code",
   "execution_count": null,
   "metadata": {},
   "outputs": [],
   "source": [
    "s=getSampleStyleSheet()"
   ]
  },
  {
   "cell_type": "code",
   "execution_count": null,
   "metadata": {},
   "outputs": [],
   "source": [
    "s.list()"
   ]
  },
  {
   "cell_type": "code",
   "execution_count": null,
   "metadata": {},
   "outputs": [],
   "source": [
    "\n",
    "np.array(a.total_marks_leaderboard()[0]).tolist()"
   ]
  },
  {
   "cell_type": "code",
   "execution_count": null,
   "metadata": {},
   "outputs": [],
   "source": []
  }
 ],
 "metadata": {
  "kernelspec": {
   "display_name": "Python 3",
   "language": "python",
   "name": "python3"
  },
  "language_info": {
   "codemirror_mode": {
    "name": "ipython",
    "version": 3
   },
   "file_extension": ".py",
   "mimetype": "text/x-python",
   "name": "python",
   "nbconvert_exporter": "python",
   "pygments_lexer": "ipython3",
   "version": "3.6.8"
  }
 },
 "nbformat": 4,
 "nbformat_minor": 2
}
