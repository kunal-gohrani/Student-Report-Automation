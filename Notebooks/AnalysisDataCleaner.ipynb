{
 "cells": [
  {
   "cell_type": "code",
   "execution_count": 1,
   "metadata": {},
   "outputs": [],
   "source": [
    "import numpy as np\n",
    "import pandas as pd\n",
    "from Drive import *"
   ]
  },
  {
   "cell_type": "code",
   "execution_count": 2,
   "metadata": {},
   "outputs": [],
   "source": [
    "def mydayCleaner(data):\n",
    "    idx=np.array([])\n",
    "    for date,month in zip(data['Date'].values,data['Month'].values):\n",
    "        date_mask=data['Date']==date\n",
    "        month_mask=data['Month']==month\n",
    "        task_mask=data['Task']=='AjKyaUkhada'\n",
    "        d=data[date_mask & month_mask & task_mask].sort_values('Student')\n",
    "        idx=np.append(idx,d[d.duplicated(subset=['Student'],keep='last')].index)\n",
    "    data.drop(idx,inplace=True)\n",
    "    return data"
   ]
  },
  {
   "cell_type": "code",
   "execution_count": 3,
   "metadata": {},
   "outputs": [],
   "source": [
    "def knowledgeSharingCleaner(data):\n",
    "    idx=np.array([])\n",
    "    knowledge_sharing_days={'Monday':['Kunal','Bhavna','Apurwa'],\\\n",
    "                       'Tuesday':['Chandrima','Purbita','Prasoon'],\\\n",
    "                        'Wednesday':['Roumyak','Kaushal','Ujjainee'],\\\n",
    "                       'Thursday':['Siddhishikha','Dipam','Shakib'],\\\n",
    "                        'Friday':['Sonali','Durga','Sonali'],\\\n",
    "                       'Saturday':['Swaastick','Sharika','Vishal'],\\\n",
    "                       'Sunday':['Anjali','Arya','Surabhi']} \n",
    "    date_month_dayname_unique=data[['Date','Month','DayName']].drop_duplicates()\n",
    "    for date,month,dayname in zip(date_month_dayname_unique['Date'].values.tolist(),date_month_dayname_unique['Month'].values.tolist(),date_month_dayname_unique['DayName'].values.tolist()):\n",
    "        dateMask=data['Date']==date\n",
    "        monthMask=data['Month']==month\n",
    "        daynameMask=data['DayName']==dayname\n",
    "        taskMask=data['Task']=='Knowledge Sharing'\n",
    "        temp=data[dateMask & monthMask & daynameMask & taskMask]\n",
    "\n",
    "        # Below for loop filters out those rows for which students and daynames dont match\n",
    "        # Example:- if dipam posts on gyan on monday, then he wont be given marks\n",
    "        for index,name in zip(temp.Student.index,temp.Student.values):\n",
    "            if name not in knowledge_sharing_days[dayname]:\n",
    "                idx=np.append(idx,index)\n",
    "        # After the first loop is run (description given on top), now it's time to filter out\n",
    "        # those who put more than one post in gyan channel on the same day\n",
    "        idx=np.append(idx,temp[temp.duplicated(subset=['Student'],keep='last')].index)\n",
    "    data.drop(idx,inplace=True)\n",
    "    return data"
   ]
  },
  {
   "cell_type": "code",
   "execution_count": 4,
   "metadata": {},
   "outputs": [],
   "source": [
    "def data_cleaner(data):\n",
    "    \"\"\"This method will clean the data thoroughly and return the cleaned dataframe\"\"\"\n",
    "    data=data.dropna(how='all',axis=0)\n",
    "    data.replace('Ajkyaukhada','AjKyaUkhada',inplace=True)\n",
    "    data['Date']=pd.to_datetime(data['Date'],errors='ignore',infer_datetime_format=True,dayfirst=True)\n",
    "    data.dropna(subset=['Student'],inplace=True)\n",
    "    data.replace('Swaastik','Swaastick',inplace=True)\n",
    "    data.replace('Sushree','Siddhishikha',inplace=True)\n",
    "    niteshIndex=data[data['Student']=='Nitish'].index\n",
    "    data.drop(niteshIndex,inplace=True)\n",
    "    data['Month']=data['Date'].dt.month_name()\n",
    "    data['Year']=data['Date'].dt.year\n",
    "    data['DayName']=data['Date'].dt.weekday_name\n",
    "    data['Date']=data['Date'].dt.day\n",
    "    data=mydayCleaner(data)\n",
    "    data=knowledgeSharingCleaner(data)\n",
    "    del niteshIndex\n",
    "    return data"
   ]
  }
 ],
 "metadata": {
  "kernelspec": {
   "display_name": "Python 3",
   "language": "python",
   "name": "python3"
  },
  "language_info": {
   "codemirror_mode": {
    "name": "ipython",
    "version": 3
   },
   "file_extension": ".py",
   "mimetype": "text/x-python",
   "name": "python",
   "nbconvert_exporter": "python",
   "pygments_lexer": "ipython3",
   "version": "3.6.8"
  }
 },
 "nbformat": 4,
 "nbformat_minor": 2
}
