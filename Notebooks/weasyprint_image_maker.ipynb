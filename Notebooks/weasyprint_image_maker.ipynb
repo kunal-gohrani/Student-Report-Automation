{
 "cells": [
  {
   "cell_type": "code",
   "execution_count": 1,
   "metadata": {},
   "outputs": [],
   "source": [
    "import imgkit\n",
    "import weasyprint"
   ]
  },
  {
   "cell_type": "code",
   "execution_count": 2,
   "metadata": {},
   "outputs": [
    {
     "name": "stdout",
     "output_type": "stream",
     "text": [
      "Download. 100\n"
     ]
    }
   ],
   "source": [
    "import AnalysisScript"
   ]
  },
  {
   "cell_type": "code",
   "execution_count": 3,
   "metadata": {},
   "outputs": [],
   "source": [
    "import AnalysisScript"
   ]
  },
  {
   "cell_type": "code",
   "execution_count": 4,
   "metadata": {},
   "outputs": [
    {
     "name": "stdout",
     "output_type": "stream",
     "text": [
      "Download. 100\n"
     ]
    }
   ],
   "source": [
    "a=AnalysisScript.Analysis() # initializing the class, it will ask u to allow campusx to use ur drive. allow it"
   ]
  },
  {
   "cell_type": "code",
   "execution_count": 5,
   "metadata": {},
   "outputs": [],
   "source": [
    "d1=a.total_marks_leaderboard()[0] # assigning leaderboard dataframe to d1"
   ]
  },
  {
   "cell_type": "code",
   "execution_count": 14,
   "metadata": {},
   "outputs": [],
   "source": [
    "d2=a.student_task_marks('Kunal')[0] # same as above"
   ]
  },
  {
   "cell_type": "code",
   "execution_count": 7,
   "metadata": {},
   "outputs": [],
   "source": [
    "# used to style the dataframe, change it as per ur wish\n",
    "css = \"\"\"\n",
    "<style type=\\\"text/css\\\">\n",
    "table {\n",
    "color: #333;\n",
    "font-family: Helvetica, Arial, sans-serif;\n",
    "width: 640px;\n",
    "border-collapse:\n",
    "collapse; \n",
    "border-spacing: 0;\n",
    "}td, th {\n",
    "border: 1px solid transparent; /* No more visible border */\n",
    "height: 30px;\n",
    "}th {\n",
    "background: #DFDFDF; /* Darken header a bit */\n",
    "font-weight: bold;\n",
    "}td {\n",
    "background: #FAFAFA;\n",
    "text-align: center;\n",
    "}table tr:nth-child(odd) td{\n",
    "background-color: white;\n",
    "}\n",
    "</style>\n",
    "\"\"\""
   ]
  },
  {
   "cell_type": "code",
   "execution_count": 8,
   "metadata": {},
   "outputs": [],
   "source": [
    "#making the image of leaderboard, only png supported\n",
    "c=weasyprint.CSS(string=css)\n",
    "weasyprint.HTML(string=d1.to_html()).write_png('leaderboard.png',stylesheets=[c])"
   ]
  },
  {
   "cell_type": "code",
   "execution_count": 9,
   "metadata": {},
   "outputs": [],
   "source": [
    "# making pdf script\n",
    "page=weasyprint.CSS(string=\"@page { size: A4; margin: 0.5cm}\") # this line needed to tell page size, margin and stuff\n",
    "weasyprint.HTML('testing.html').write_pdf('test.pdf',stylesheets=[page])"
   ]
  },
  {
   "cell_type": "code",
   "execution_count": 17,
   "metadata": {},
   "outputs": [],
   "source": [
    "# this function can be used to generate images of dataframes, u need to pass in the variable of dataframe,\n",
    "# and the name of the image including its extension, like leaderboard.png\n",
    "def dataframe_image_maker(dataframe=None,imageName=None):\n",
    "    if imageName==None:\n",
    "        print('Give a dataframe and imagename both')\n",
    "        return None\n",
    "    d1=dataframe\n",
    "    css = \"\"\"\n",
    "    <style type=\\\"text/css\\\">\n",
    "    table {\n",
    "    color: #333;\n",
    "    font-family: Helvetica, Arial, sans-serif;\n",
    "    width: 640px;\n",
    "    border-collapse:\n",
    "    collapse; \n",
    "    border-spacing: 0;\n",
    "    }td, th {\n",
    "    border: 1px solid transparent; /* No more visible border */\n",
    "    height: 30px;\n",
    "    }th {\n",
    "    background: #DFDFDF; /* Darken header a bit */\n",
    "    font-weight: bold;\n",
    "    }td {\n",
    "    background: #FAFAFA;\n",
    "    text-align: center;\n",
    "    }table tr:nth-child(odd) td{\n",
    "    background-color: white;\n",
    "    }\n",
    "    </style>\n",
    "    \"\"\"\n",
    "    c=weasyprint.CSS(string=css)\n",
    "    weasyprint.HTML(string=dataframe.to_html()).write_png(imageName,stylesheets=[c])"
   ]
  },
  {
   "cell_type": "code",
   "execution_count": 18,
   "metadata": {},
   "outputs": [],
   "source": [
    "dataframe_image_maker(d2,'task_marks_kunal.png')"
   ]
  },
  {
   "cell_type": "code",
   "execution_count": 19,
   "metadata": {},
   "outputs": [
    {
     "data": {
      "text/plain": [
       "2861"
      ]
     },
     "execution_count": 19,
     "metadata": {},
     "output_type": "execute_result"
    }
   ],
   "source": [
    "with open('f.html','w') as f:\n",
    "    f.write(d2.to_html())"
   ]
  },
  {
   "cell_type": "code",
   "execution_count": null,
   "metadata": {},
   "outputs": [],
   "source": []
  }
 ],
 "metadata": {
  "kernelspec": {
   "display_name": "Python 3",
   "language": "python",
   "name": "python3"
  },
  "language_info": {
   "codemirror_mode": {
    "name": "ipython",
    "version": 3
   },
   "file_extension": ".py",
   "mimetype": "text/x-python",
   "name": "python",
   "nbconvert_exporter": "python",
   "pygments_lexer": "ipython3",
   "version": "3.6.8"
  }
 },
 "nbformat": 4,
 "nbformat_minor": 2
}
