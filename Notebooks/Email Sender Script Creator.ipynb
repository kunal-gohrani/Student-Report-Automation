{
 "cells": [
  {
   "cell_type": "code",
   "execution_count": 6,
   "metadata": {},
   "outputs": [
    {
     "data": {
      "text/plain": [
       "(220, b'2.0.0 Ready to start TLS')"
      ]
     },
     "execution_count": 6,
     "metadata": {},
     "output_type": "execute_result"
    },
    {
     "name": "stdout",
     "output_type": "stream",
     "text": [
      "········\n"
     ]
    },
    {
     "data": {
      "text/plain": [
       "(235, b'2.7.0 Accepted')"
      ]
     },
     "execution_count": 6,
     "metadata": {},
     "output_type": "execute_result"
    },
    {
     "name": "stdout",
     "output_type": "stream",
     "text": [
      "Content-Type: multipart/mixed; boundary=\"===============2250518493572433770==\"\n",
      "MIME-Version: 1.0\n",
      "From: hellgod112@gmail.com\n",
      "To: gohrani.kunal8@gmail.com\n",
      "Subject: Pdf Sender\n",
      "\n",
      "--===============2250518493572433770==\n",
      "Content-Type: text/plain; charset=\"us-ascii\"\n",
      "MIME-Version: 1.0\n",
      "Content-Transfer-Encoding: 7bit\n",
      "\n",
      "Hi, Kunal\n",
      " Here is your report card for the month of September\n",
      "--===============2250518493572433770==--\n",
      "\n"
     ]
    }
   ],
   "source": [
    "#Simple Mail transfer protocol(SMTP) is an internet standard for electronic mail (email) transmission.\n",
    "#smtplib:- the smtplib module defines an SMTP client session object that can be used to send mail to any internet machine with an SMTP or ESMTP listener\n",
    "import smtplib \n",
    "from getpass import getpass\n",
    "#mime is shortform form multipurpose internet mail extention.\n",
    "# mime is an internet standard which just  specify the format to support text , attachments etc in a email body\n",
    "from email.mime.multipart import MIMEMultipart\n",
    "from email.mime.text import MIMEText\n",
    "from email.mime.application import MIMEApplication\n",
    "\n",
    "name='Kunal'\n",
    "month='September'\n",
    "mail= smtplib.SMTP('smtp.gmail.com',587)\n",
    "\n",
    "#mail.ehlo() # saying hello to your server that you wnt to use their service \n",
    "\n",
    "mail.starttls() #secure tranfer protocol\n",
    "\n",
    "username= \"hellgod112@gmail.com\"\n",
    "password=getpass()\n",
    "\n",
    "mail.login(username,password)\n",
    "\n",
    "#msg='Milestone'\n",
    "\n",
    "#mail.sendmail(username,'gohrani.kunal8@gmail.com',msg)\n",
    "\n",
    "\n",
    "\n",
    "#MIMEMultipart will contain all the parts of  email body \n",
    "msg= MIMEMultipart()\n",
    "\n",
    "msg['From']=username\n",
    "\n",
    "msg['To']= \"gohrani.kunal8@gmail.com\"\n",
    "\n",
    "msg['Subject']= \"Pdf Sender\"\n",
    "\n",
    "text=\"Hi, \"+name+\"\\n Here is your report card for the month of \"+month\n",
    "\n",
    "msg.attach(MIMEText(text))\n",
    "\n",
    "#function to check how my current email look like \n",
    "print(msg.as_string())\n",
    "\n",
    "with open(\"outt.pdf\" , 'rb') as f:\n",
    "    part=MIMEApplication(f.read())\n",
    "    part.add_header('Content-Disposition', 'attachment', filename=\"outt.pdf\")\n",
    "    msg.attach(part)\n",
    "\n",
    "_=mail.sendmail(msg['From'], msg['To'], msg.as_string())"
   ]
  },
  {
   "cell_type": "code",
   "execution_count": null,
   "metadata": {},
   "outputs": [],
   "source": [
    "\n"
   ]
  },
  {
   "cell_type": "code",
   "execution_count": null,
   "metadata": {},
   "outputs": [],
   "source": []
  }
 ],
 "metadata": {
  "kernelspec": {
   "display_name": "Python 3",
   "language": "python",
   "name": "python3"
  },
  "language_info": {
   "codemirror_mode": {
    "name": "ipython",
    "version": 3
   },
   "file_extension": ".py",
   "mimetype": "text/x-python",
   "name": "python",
   "nbconvert_exporter": "python",
   "pygments_lexer": "ipython3",
   "version": "3.6.8"
  }
 },
 "nbformat": 4,
 "nbformat_minor": 2
}
