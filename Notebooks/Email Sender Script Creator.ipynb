{
 "cells": [
  {
   "cell_type": "code",
   "execution_count": 1,
   "metadata": {},
   "outputs": [],
   "source": [
    "#Simple Mail transfer protocol(SMTP) is an internet standard for electronic mail (email) transmission.\n",
    "#smtplib:- the smtplib module defines an SMTP client session object that can be used to send mail to any internet machine with an SMTP or ESMTP listener\n",
    "import smtplib \n",
    "from getpass import getpass\n",
    "#mime is shortform form multipurpose internet mail extention.\n",
    "# mime is an internet standard which just  specify the format to support text , attachments etc in a email body\n",
    "from email.mime.multipart import MIMEMultipart\n",
    "from email.mime.text import MIMEText\n",
    "from email.mime.application import MIMEApplication\n",
    "class EmailSender:\n",
    "    def __init__(self):\n",
    "        self.username= \"hellgod112@gmail.com\"\n",
    "        self.password=getpass()\n",
    "        self.mail= smtplib.SMTP('smtp.gmail.com',587)\n",
    "        self.mail.starttls()\n",
    "        self.mail.login(self.username,self.password)\n",
    "    def send_mail(self,name,month,email):\n",
    "       \n",
    "        #mail.ehlo() # saying hello to your server that you wnt to use their service \n",
    "        #secure tranfer protocol\n",
    "        #msg='Milestone'\n",
    "        #mail.sendmail(username,'gohrani.kunal8@gmail.com',msg)\n",
    "        #MIMEMultipart will contain all the parts of  email body \n",
    "        msg= MIMEMultipart()\n",
    "\n",
    "        msg['From']=self.username\n",
    "\n",
    "        msg['To']= email\n",
    "\n",
    "        msg['Subject']= \"CampusX Monthly Report\"\n",
    "\n",
    "        text=\"Hi \"+name+\", here is your report card for the month of \"+month\n",
    "\n",
    "        msg.attach(MIMEText(text))\n",
    "\n",
    "        #function to check how my current email look like \n",
    "        #print(msg.as_string())\n",
    "        file_name=name+'_'+month+'.pdf'\n",
    "        with open(file_name , 'rb') as f:\n",
    "            part=MIMEApplication(f.read())\n",
    "            part.add_header('Content-Disposition', 'attachment', filename=file_name)\n",
    "            msg.attach(part)\n",
    "\n",
    "        _=self.mail.sendmail(msg['From'], msg['To'], msg.as_string())"
   ]
  },
  {
   "cell_type": "code",
   "execution_count": null,
   "metadata": {},
   "outputs": [],
   "source": [
    "obj=EmailSender()\n",
    "obj.send_mail(name='Kunal',month='September',email='gohranikunal25@outlook.com')"
   ]
  },
  {
   "cell_type": "code",
   "execution_count": null,
   "metadata": {},
   "outputs": [],
   "source": []
  }
 ],
 "metadata": {
  "kernelspec": {
   "display_name": "Python 3",
   "language": "python",
   "name": "python3"
  },
  "language_info": {
   "codemirror_mode": {
    "name": "ipython",
    "version": 3
   },
   "file_extension": ".py",
   "mimetype": "text/x-python",
   "name": "python",
   "nbconvert_exporter": "python",
   "pygments_lexer": "ipython3",
   "version": "3.6.8"
  }
 },
 "nbformat": 4,
 "nbformat_minor": 2
}
