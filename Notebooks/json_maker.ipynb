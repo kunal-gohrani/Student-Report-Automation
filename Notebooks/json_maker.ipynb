{
 "cells": [
  {
   "cell_type": "code",
   "execution_count": 57,
   "metadata": {},
   "outputs": [],
   "source": [
    "import numpy as np\n",
    "import pandas as pd\n",
    "import json"
   ]
  },
  {
   "cell_type": "code",
   "execution_count": 72,
   "metadata": {},
   "outputs": [],
   "source": [
    "d=pd.read_csv('users.csv')\n",
    "d['fname'].replace('Sushree','Siddhishikha',inplace=True)\n",
    "d['fname'].replace('Swaastik','Swaastick',inplace=True)"
   ]
  },
  {
   "cell_type": "code",
   "execution_count": 73,
   "metadata": {},
   "outputs": [
    {
     "data": {
      "text/plain": [
       "[['Durga'],\n",
       " ['Sharika'],\n",
       " ['Swaastick'],\n",
       " ['Apurwa'],\n",
       " ['Purbita'],\n",
       " ['Dipam'],\n",
       " ['Sonali'],\n",
       " ['Anjali'],\n",
       " ['Bhavna'],\n",
       " ['Arya'],\n",
       " ['Siddhishikha'],\n",
       " ['Vishal'],\n",
       " ['Prasoon'],\n",
       " ['Surabhi'],\n",
       " ['Kunal', 'N.'],\n",
       " ['Md', 'Shakib'],\n",
       " ['Shantanu'],\n",
       " ['Chandrima'],\n",
       " ['Kaushal'],\n",
       " ['Roumyak'],\n",
       " ['Ujjainee']]"
      ]
     },
     "execution_count": 73,
     "metadata": {},
     "output_type": "execute_result"
    }
   ],
   "source": [
    "name=d['fname'].str.split(' ').values.tolist()\n",
    "name"
   ]
  },
  {
   "cell_type": "code",
   "execution_count": 74,
   "metadata": {},
   "outputs": [],
   "source": [
    "email=d['email'].values.tolist()"
   ]
  },
  {
   "cell_type": "code",
   "execution_count": 75,
   "metadata": {},
   "outputs": [
    {
     "data": {
      "text/plain": [
       "['durgaa219@gmail.com',\n",
       " 'sharikaanjumm@gmail.com',\n",
       " 'meightpc@gmail.com',\n",
       " 'aryaapurwa08@gmail.com',\n",
       " 'purbita1998@gmail.com',\n",
       " 'dipamhazra1999@gmail.com',\n",
       " 'sonaliknr@gmail.com',\n",
       " 'anjaliksahar@gmail.com',\n",
       " 'bhavnagupta0103@gmail.com',\n",
       " 'neelarya80@gmail.com',\n",
       " 'siddhishikha1998@gmail.com',\n",
       " 'vishalmalo272000@gmail.com',\n",
       " 'prasoonthakur5@gmail.com',\n",
       " '2titi4@gmail.com',\n",
       " 'gohranikunal25@outlook.com',\n",
       " 'sakibmondal7@gmail.com',\n",
       " 'shantanu0707@gmail.com',\n",
       " 'sarkarchandrima12@gmail.com',\n",
       " 'kaushal.uemk@gmail.com',\n",
       " 'biswas.roumyak49@gmail.com',\n",
       " 'bibide06@gmail.com']"
      ]
     },
     "execution_count": 75,
     "metadata": {},
     "output_type": "execute_result"
    }
   ],
   "source": [
    "email"
   ]
  },
  {
   "cell_type": "code",
   "execution_count": 76,
   "metadata": {},
   "outputs": [],
   "source": [
    "data={}\n",
    "data['People']=[]"
   ]
  },
  {
   "cell_type": "code",
   "execution_count": 77,
   "metadata": {},
   "outputs": [
    {
     "name": "stdout",
     "output_type": "stream",
     "text": [
      "['Durga']\n",
      "['Durga'] durgaa219@gmail.com\n",
      "['Sharika']\n",
      "['Sharika'] sharikaanjumm@gmail.com\n",
      "['Swaastick']\n",
      "['Swaastick'] meightpc@gmail.com\n",
      "['Apurwa']\n",
      "['Apurwa'] aryaapurwa08@gmail.com\n",
      "['Purbita']\n",
      "['Purbita'] purbita1998@gmail.com\n",
      "['Dipam']\n",
      "['Dipam'] dipamhazra1999@gmail.com\n",
      "['Sonali']\n",
      "['Sonali'] sonaliknr@gmail.com\n",
      "['Anjali']\n",
      "['Anjali'] anjaliksahar@gmail.com\n",
      "['Bhavna']\n",
      "['Bhavna'] bhavnagupta0103@gmail.com\n",
      "['Arya']\n",
      "['Arya'] neelarya80@gmail.com\n",
      "['Siddhishikha']\n",
      "['Siddhishikha'] siddhishikha1998@gmail.com\n",
      "['Vishal']\n",
      "['Vishal'] vishalmalo272000@gmail.com\n",
      "['Prasoon']\n",
      "['Prasoon'] prasoonthakur5@gmail.com\n",
      "['Surabhi']\n",
      "['Surabhi'] 2titi4@gmail.com\n",
      "['Kunal', 'N.']\n",
      "['Kunal', 'N.'] gohranikunal25@outlook.com\n",
      "['Md', 'Shakib']\n",
      "['Md', 'Shakib'] sakibmondal7@gmail.com\n",
      "['Shantanu']\n",
      "['Shantanu'] shantanu0707@gmail.com\n",
      "['Chandrima']\n",
      "['Chandrima'] sarkarchandrima12@gmail.com\n",
      "['Kaushal']\n",
      "['Kaushal'] kaushal.uemk@gmail.com\n",
      "['Roumyak']\n",
      "['Roumyak'] biswas.roumyak49@gmail.com\n",
      "['Ujjainee']\n",
      "['Ujjainee'] bibide06@gmail.com\n"
     ]
    }
   ],
   "source": [
    "for n,e in zip(name,email):\n",
    "    temp={}\n",
    "    if n[0]=='Md':\n",
    "        temp['Name']=n[1]\n",
    "    else:\n",
    "        temp['Name']=n[0]\n",
    "    temp['Email']=e\n",
    "    data['People'].append(temp)\n",
    "    print(n)\n",
    "    print(n,e)"
   ]
  },
  {
   "cell_type": "code",
   "execution_count": 78,
   "metadata": {},
   "outputs": [
    {
     "data": {
      "text/plain": [
       "{'People': [{'Name': 'Durga', 'Email': 'durgaa219@gmail.com'},\n",
       "  {'Name': 'Sharika', 'Email': 'sharikaanjumm@gmail.com'},\n",
       "  {'Name': 'Swaastick', 'Email': 'meightpc@gmail.com'},\n",
       "  {'Name': 'Apurwa', 'Email': 'aryaapurwa08@gmail.com'},\n",
       "  {'Name': 'Purbita', 'Email': 'purbita1998@gmail.com'},\n",
       "  {'Name': 'Dipam', 'Email': 'dipamhazra1999@gmail.com'},\n",
       "  {'Name': 'Sonali', 'Email': 'sonaliknr@gmail.com'},\n",
       "  {'Name': 'Anjali', 'Email': 'anjaliksahar@gmail.com'},\n",
       "  {'Name': 'Bhavna', 'Email': 'bhavnagupta0103@gmail.com'},\n",
       "  {'Name': 'Arya', 'Email': 'neelarya80@gmail.com'},\n",
       "  {'Name': 'Siddhishikha', 'Email': 'siddhishikha1998@gmail.com'},\n",
       "  {'Name': 'Vishal', 'Email': 'vishalmalo272000@gmail.com'},\n",
       "  {'Name': 'Prasoon', 'Email': 'prasoonthakur5@gmail.com'},\n",
       "  {'Name': 'Surabhi', 'Email': '2titi4@gmail.com'},\n",
       "  {'Name': 'Kunal', 'Email': 'gohranikunal25@outlook.com'},\n",
       "  {'Name': 'Shakib', 'Email': 'sakibmondal7@gmail.com'},\n",
       "  {'Name': 'Shantanu', 'Email': 'shantanu0707@gmail.com'},\n",
       "  {'Name': 'Chandrima', 'Email': 'sarkarchandrima12@gmail.com'},\n",
       "  {'Name': 'Kaushal', 'Email': 'kaushal.uemk@gmail.com'},\n",
       "  {'Name': 'Roumyak', 'Email': 'biswas.roumyak49@gmail.com'},\n",
       "  {'Name': 'Ujjainee', 'Email': 'bibide06@gmail.com'}]}"
      ]
     },
     "execution_count": 78,
     "metadata": {},
     "output_type": "execute_result"
    }
   ],
   "source": [
    "data"
   ]
  },
  {
   "cell_type": "code",
   "execution_count": 79,
   "metadata": {},
   "outputs": [
    {
     "data": {
      "text/plain": [
       "[{'Name': 'Durga', 'Email': 'durgaa219@gmail.com'},\n",
       " {'Name': 'Sharika', 'Email': 'sharikaanjumm@gmail.com'},\n",
       " {'Name': 'Swaastick', 'Email': 'meightpc@gmail.com'},\n",
       " {'Name': 'Apurwa', 'Email': 'aryaapurwa08@gmail.com'},\n",
       " {'Name': 'Purbita', 'Email': 'purbita1998@gmail.com'},\n",
       " {'Name': 'Dipam', 'Email': 'dipamhazra1999@gmail.com'},\n",
       " {'Name': 'Sonali', 'Email': 'sonaliknr@gmail.com'},\n",
       " {'Name': 'Anjali', 'Email': 'anjaliksahar@gmail.com'},\n",
       " {'Name': 'Bhavna', 'Email': 'bhavnagupta0103@gmail.com'},\n",
       " {'Name': 'Arya', 'Email': 'neelarya80@gmail.com'},\n",
       " {'Name': 'Siddhishikha', 'Email': 'siddhishikha1998@gmail.com'},\n",
       " {'Name': 'Vishal', 'Email': 'vishalmalo272000@gmail.com'},\n",
       " {'Name': 'Prasoon', 'Email': 'prasoonthakur5@gmail.com'},\n",
       " {'Name': 'Surabhi', 'Email': '2titi4@gmail.com'},\n",
       " {'Name': 'Kunal', 'Email': 'gohranikunal25@outlook.com'},\n",
       " {'Name': 'Shakib', 'Email': 'sakibmondal7@gmail.com'},\n",
       " {'Name': 'Shantanu', 'Email': 'shantanu0707@gmail.com'},\n",
       " {'Name': 'Chandrima', 'Email': 'sarkarchandrima12@gmail.com'},\n",
       " {'Name': 'Kaushal', 'Email': 'kaushal.uemk@gmail.com'},\n",
       " {'Name': 'Roumyak', 'Email': 'biswas.roumyak49@gmail.com'},\n",
       " {'Name': 'Ujjainee', 'Email': 'bibide06@gmail.com'}]"
      ]
     },
     "execution_count": 79,
     "metadata": {},
     "output_type": "execute_result"
    }
   ],
   "source": [
    "data['People']"
   ]
  },
  {
   "cell_type": "code",
   "execution_count": 80,
   "metadata": {},
   "outputs": [],
   "source": [
    "\n",
    "with open('user_list.json','w') as f:\n",
    "    json.dump(data,f)"
   ]
  },
  {
   "cell_type": "code",
   "execution_count": 81,
   "metadata": {},
   "outputs": [],
   "source": [
    "del data\n",
    "data=''\n",
    "def c():\n",
    "    with open('user_list.json') as f:\n",
    "        return json.load(f)"
   ]
  },
  {
   "cell_type": "code",
   "execution_count": 82,
   "metadata": {},
   "outputs": [],
   "source": [
    "data=c()"
   ]
  },
  {
   "cell_type": "code",
   "execution_count": 83,
   "metadata": {
    "scrolled": true
   },
   "outputs": [
    {
     "data": {
      "text/plain": [
       "{'People': [{'Name': 'Durga', 'Email': 'durgaa219@gmail.com'},\n",
       "  {'Name': 'Sharika', 'Email': 'sharikaanjumm@gmail.com'},\n",
       "  {'Name': 'Swaastick', 'Email': 'meightpc@gmail.com'},\n",
       "  {'Name': 'Apurwa', 'Email': 'aryaapurwa08@gmail.com'},\n",
       "  {'Name': 'Purbita', 'Email': 'purbita1998@gmail.com'},\n",
       "  {'Name': 'Dipam', 'Email': 'dipamhazra1999@gmail.com'},\n",
       "  {'Name': 'Sonali', 'Email': 'sonaliknr@gmail.com'},\n",
       "  {'Name': 'Anjali', 'Email': 'anjaliksahar@gmail.com'},\n",
       "  {'Name': 'Bhavna', 'Email': 'bhavnagupta0103@gmail.com'},\n",
       "  {'Name': 'Arya', 'Email': 'neelarya80@gmail.com'},\n",
       "  {'Name': 'Siddhishikha', 'Email': 'siddhishikha1998@gmail.com'},\n",
       "  {'Name': 'Vishal', 'Email': 'vishalmalo272000@gmail.com'},\n",
       "  {'Name': 'Prasoon', 'Email': 'prasoonthakur5@gmail.com'},\n",
       "  {'Name': 'Surabhi', 'Email': '2titi4@gmail.com'},\n",
       "  {'Name': 'Kunal', 'Email': 'gohranikunal25@outlook.com'},\n",
       "  {'Name': 'Shakib', 'Email': 'sakibmondal7@gmail.com'},\n",
       "  {'Name': 'Shantanu', 'Email': 'shantanu0707@gmail.com'},\n",
       "  {'Name': 'Chandrima', 'Email': 'sarkarchandrima12@gmail.com'},\n",
       "  {'Name': 'Kaushal', 'Email': 'kaushal.uemk@gmail.com'},\n",
       "  {'Name': 'Roumyak', 'Email': 'biswas.roumyak49@gmail.com'},\n",
       "  {'Name': 'Ujjainee', 'Email': 'bibide06@gmail.com'}]}"
      ]
     },
     "execution_count": 83,
     "metadata": {},
     "output_type": "execute_result"
    }
   ],
   "source": [
    "data"
   ]
  },
  {
   "cell_type": "code",
   "execution_count": null,
   "metadata": {},
   "outputs": [],
   "source": []
  }
 ],
 "metadata": {
  "kernelspec": {
   "display_name": "Python 3",
   "language": "python",
   "name": "python3"
  },
  "language_info": {
   "codemirror_mode": {
    "name": "ipython",
    "version": 3
   },
   "file_extension": ".py",
   "mimetype": "text/x-python",
   "name": "python",
   "nbconvert_exporter": "python",
   "pygments_lexer": "ipython3",
   "version": "3.6.8"
  }
 },
 "nbformat": 4,
 "nbformat_minor": 2
}
