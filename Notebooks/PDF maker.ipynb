{
 "cells": [
  {
   "cell_type": "code",
   "execution_count": 1,
   "metadata": {},
   "outputs": [],
   "source": [
    "import pdfkit\n",
    "import weasyprint"
   ]
  },
  {
   "cell_type": "code",
   "execution_count": 2,
   "metadata": {},
   "outputs": [
    {
     "name": "stdout",
     "output_type": "stream",
     "text": [
      "Loading pages (1/6)\r\n",
      "[>                                                           ] 0%\r",
      "[======>                                                     ] 10%\r",
      "[======>                                                     ] 11%\r",
      "Warning: Failed to load file:///C:/Users/gohra/Student-Report-Automation/NotRelated/bhavna/css/style.css (ignore)\r\n",
      "[==========>                                                 ] 18%\r",
      "[==================>                                         ] 30%\r",
      "[=====================>                                      ] 36%\r",
      "[========================>                                   ] 41%\r",
      "[==========================>                                 ] 44%\r",
      "[===========================>                                ] 46%\r",
      "[=================================>                          ] 56%\r",
      "[=======================================>                    ] 65%\r",
      "[===================================================>        ] 86%\r",
      "[============================================================] 100%\r",
      "Counting pages (2/6)                                               \r\n",
      "[============================================================] Object 1 of 1\r",
      "Resolving links (4/6)                                                       \r\n",
      "[============================================================] Object 1 of 1\r",
      "Loading headers and footers (5/6)                                           \r\n",
      "Printing pages (6/6)\r\n",
      "[>                                                           ] Preparing\r",
      "[==============================>                             ] Page 1 of 2\r",
      "[============================================================] Page 2 of 2\r",
      "Done                                                                      \r\n"
     ]
    },
    {
     "data": {
      "text/plain": [
       "True"
      ]
     },
     "execution_count": 2,
     "metadata": {},
     "output_type": "execute_result"
    }
   ],
   "source": [
    "pdfkit.from_file('testing.html','out.pdf',options = {\n",
    "    'page-size': 'A4',\n",
    "    'margin-top': '0.2in',\n",
    "    'margin-right': '0.2in',\n",
    "    'margin-bottom': '0.2in',\n",
    "    'margin-left': '0.2in',\n",
    "    'encoding': \"UTF-8\"})"
   ]
  },
  {
   "cell_type": "code",
   "execution_count": 5,
   "metadata": {},
   "outputs": [
    {
     "name": "stderr",
     "output_type": "stream",
     "text": [
      "Python 3.6.8 :: Anaconda, Inc.\n"
     ]
    }
   ],
   "source": [
    "!python --version --version"
   ]
  },
  {
   "cell_type": "code",
   "execution_count": 8,
   "metadata": {},
   "outputs": [],
   "source": [
    "\n",
    "a=weasyprint.CSS(string='@page { size: A4; margin: 0.2cm }')\n",
    "weasyprint.HTML('testing.html').write_pdf('outt.pdf',stylesheets=[a])"
   ]
  },
  {
   "cell_type": "code",
   "execution_count": null,
   "metadata": {},
   "outputs": [],
   "source": []
  }
 ],
 "metadata": {
  "kernelspec": {
   "display_name": "Python 3",
   "language": "python",
   "name": "python3"
  },
  "language_info": {
   "codemirror_mode": {
    "name": "ipython",
    "version": 3
   },
   "file_extension": ".py",
   "mimetype": "text/x-python",
   "name": "python",
   "nbconvert_exporter": "python",
   "pygments_lexer": "ipython3",
   "version": "3.6.8"
  }
 },
 "nbformat": 4,
 "nbformat_minor": 2
}
