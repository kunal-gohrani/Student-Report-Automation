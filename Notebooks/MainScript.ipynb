{
 "cells": [
  {
   "cell_type": "code",
   "execution_count": 1,
   "metadata": {},
   "outputs": [],
   "source": [
    "import PdfMaker\n",
    "import MailSender\n",
    "import json\n",
    "import datetime\n",
    "import argparse"
   ]
  },
  {
   "cell_type": "code",
   "execution_count": 2,
   "metadata": {},
   "outputs": [],
   "source": [
    "def load_json():\n",
    "    with open('user_list.json') as f:\n",
    "        return json.load(f)\n",
    "def get_prev_month():\n",
    "    month=datetime.datetime.now()\n",
    "    month=month.strftime('%B')\n",
    "    previous_month={'January':'December','February':'January','March':'February','April':'March','May':'April',\\\n",
    "                    'June':'May','July':'June','August':'July','September':'August','October':'September',\\\n",
    "                    'November':'October','December':'November'}\n",
    "    return previous_month[month]"
   ]
  },
  {
   "cell_type": "code",
   "execution_count": null,
   "metadata": {},
   "outputs": [],
   "source": [
    "def init():\n",
    "    args=argSetter() # stores arguments passed through command line in dictionary format\n",
    "    pdf=PdfMaker.PdfMaker()\n",
    "    mail=MailSender.EmailSender()\n",
    "    users=load_json()\n",
    "    \n",
    "    if args['month']==None: # if a month is explicitly passed through command line\n",
    "        month=get_prev_month()\n",
    "    else:\n",
    "        month=args['month']\n",
    "        \n",
    "    for i in users['People']: # PDF generation part, generates pdf by iterating over names stored in json\n",
    "        print('PDF Generation:')\n",
    "        print('Name:',i['Name'])\n",
    "        pdf.generate_report_monthly(month,i['Name'])\n",
    "        \n",
    "    if args['sendmail']==True: # check if the program should run the mail sender part\n",
    "        for i in users['People']:\n",
    "            print('Email Sender: ')\n",
    "            print('Name:',i['Name'],'\\nEmail:',i['Email'])\n",
    "            if args['sendall']==False: # check if we need to send to all people,\n",
    "                                        #if False, then only send to teammates\n",
    "                if i['Name']=='Bhavna' or i['Name']=='Apurwa' or i['Name']=='Kunal':\n",
    "                    mail.send_mail(name=i['Name'],month=month,email=i['Email'])\n",
    "                    \n",
    "            elif args['sendall']==True: # send mail to all people \n",
    "                mail.send_mail(name=i['Name'],month=month,email=i['Email'])\n",
    "def argSetter():\n",
    "    my_parser = argparse.ArgumentParser(description='Run the CampusX Project generator mailer')\n",
    "    my_parser.add_argument('-a','--sendall',action='store_true',default=False)\n",
    "    my_parser.add_argument('-s','--sendmail',action='store_true',default=False)\n",
    "    my_parser.add_argument('-m','--month',action='store')\n",
    "    args=my_parser.parse_args()\n",
    "    return vars(args)\n",
    "if __name__=='__main__':\n",
    "    init()"
   ]
  },
  {
   "cell_type": "code",
   "execution_count": null,
   "metadata": {},
   "outputs": [],
   "source": []
  }
 ],
 "metadata": {
  "kernelspec": {
   "display_name": "Python 3",
   "language": "python",
   "name": "python3"
  },
  "language_info": {
   "codemirror_mode": {
    "name": "ipython",
    "version": 3
   },
   "file_extension": ".py",
   "mimetype": "text/x-python",
   "name": "python",
   "nbconvert_exporter": "python",
   "pygments_lexer": "ipython3",
   "version": "3.6.8"
  }
 },
 "nbformat": 4,
 "nbformat_minor": 2
}
