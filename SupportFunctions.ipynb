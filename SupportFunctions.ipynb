{
 "cells": [
  {
   "cell_type": "code",
   "execution_count": 1,
   "metadata": {},
   "outputs": [],
   "source": [
    "import numpy as np\n",
    "import pandas as pd\n",
    "from Drive import *"
   ]
  },
  {
   "cell_type": "code",
   "execution_count": 2,
   "metadata": {},
   "outputs": [],
   "source": [
    "months=['January','February','March','April','May',\\\n",
    "                     'June','July','August','September','October',\\\n",
    "                     'November','December']"
   ]
  },
  {
   "cell_type": "code",
   "execution_count": 3,
   "metadata": {},
   "outputs": [],
   "source": [
    "def get_myday(name,data,month_name=None):\n",
    "    if name==None:\n",
    "        raise ValueError('No name provided')\n",
    "    if month_name==None:\n",
    "        myday='AjKyaUkhada'\n",
    "        myday_marks=data[data['Task']==myday].groupby('Student')['Points'].sum().sort_values(ascending=False).reset_index()\n",
    "        temp=myday_marks[myday_marks['Student']==name]['Points'].values\n",
    "        if len(temp)>0:\n",
    "            return temp[0]\n",
    "        else:\n",
    "            return 0\n",
    "    elif month_name in months:\n",
    "        myday='AjKyaUkhada'\n",
    "        myday_marks=data[(data['Task']==myday) & (data['Month']==month_name)].groupby('Student')['Points'].sum().sort_values(ascending=False).reset_index()\n",
    "        temp=myday_marks[myday_marks['Student']==name]['Points'].values\n",
    "        if len(temp)>0:\n",
    "            return temp[0]\n",
    "        else:\n",
    "            return 0\n",
    "    else:\n",
    "        raise ValueError('month_name has wrong spelling supplied')"
   ]
  },
  {
   "cell_type": "code",
   "execution_count": 4,
   "metadata": {},
   "outputs": [],
   "source": [
    "def get_task(name,data,month_name=None):\n",
    "    knowledge='Knowledge Sharing'\n",
    "    myday='AjKyaUkhada'\n",
    "    if month_name==None:\n",
    "        task_marks=data[(data['Task']!=knowledge) & (data['Task']!=myday)].groupby('Student')['Points'].\\\n",
    "        sum().sort_values(ascending=False).reset_index()\n",
    "        temp=task_marks[task_marks['Student']==name]['Points'].values\n",
    "        if len(temp)>0:\n",
    "            return temp[0]\n",
    "        else:\n",
    "            return 0\n",
    "    elif month_name in months:\n",
    "        task_marks=data[(data['Task']!=knowledge) & (data['Task']!=myday) & (data['Month']==month_name)].groupby('Student')['Points'].\\\n",
    "        sum().sort_values(ascending=False).reset_index()\n",
    "        temp=task_marks[task_marks['Student']==name]['Points'].values\n",
    "        if len(temp)>0:\n",
    "            return temp[0]\n",
    "        else:\n",
    "            return 0\n",
    "    else:\n",
    "        raise ValueError('month_name has wrong spelling supplied')"
   ]
  },
  {
   "cell_type": "code",
   "execution_count": 5,
   "metadata": {},
   "outputs": [],
   "source": [
    "def get_gyan(name,data,month_name=None):\n",
    "    if month_name==None:\n",
    "        knowledge_marks=data[data['Task']=='Knowledge Sharing'].groupby('Student')['Points'].sum().sort_values(ascending=False).\\\n",
    "        reset_index()\n",
    "        temp=knowledge_marks[knowledge_marks['Student']==name]['Points'].values\n",
    "        if len(temp)>0:\n",
    "            return temp[0]\n",
    "        else:\n",
    "            return 0\n",
    "    elif month_name in months:\n",
    "        knowledge_marks=data[(data['Task']=='Knowledge Sharing') & (data['Month']==month_name)].groupby('Student')['Points'].sum().sort_values(ascending=False).\\\n",
    "        reset_index()\n",
    "        temp=knowledge_marks[knowledge_marks['Student']==name]['Points'].values\n",
    "        if len(temp)>0:\n",
    "            return temp[0]\n",
    "        else:\n",
    "            return 0\n",
    "    else:\n",
    "        raise ValueError('month_name has wrong spelling supplied')"
   ]
  },
  {
   "cell_type": "code",
   "execution_count": 6,
   "metadata": {},
   "outputs": [],
   "source": [
    "def get_count_late_submission(name,data,month_name=None):\n",
    "    if month_name==None:\n",
    "        count=data[data['Late Submission']==1].groupby('Student')['Late Submission'].count().sort_values(ascending=False).\\\n",
    "        reset_index()\n",
    "        temp=count[count['Student']==name]['Late Submission'].values\n",
    "        if len(temp)>0:\n",
    "            return temp[0]\n",
    "        else:\n",
    "            return 0\n",
    "    elif month_name in months:\n",
    "        count=data[(data['Late Submission']==1) & (data['Month']==month_name)].groupby('Student')['Late Submission'].count().\\\n",
    "        reset_index()\n",
    "        temp=count[count['Student']==name]['Late Submission'].values\n",
    "        if len(temp)>0:\n",
    "            return temp[0]\n",
    "        else:\n",
    "            return 0\n",
    "    else:\n",
    "        raise ValueError('Month wrongly spelled')"
   ]
  },
  {
   "cell_type": "code",
   "execution_count": 7,
   "metadata": {},
   "outputs": [],
   "source": [
    "def get_highest_marks(name,data,month_name=None):\n",
    "    if name==None:\n",
    "        raise ValueError('Name:',name)\n",
    "    if month_name==None:\n",
    "        temp=data.groupby('Student')['Total'].sum().reset_index()\n",
    "        temp=temp[temp['Student']==name]['Total'].values\n",
    "        if len(temp)>0:\n",
    "            return temp[0]\n",
    "        else:\n",
    "            return 0\n",
    "    elif month_name in months:\n",
    "        temp=data[data['Month']==month_name].groupby('Student')['Total'].sum().reset_index()\n",
    "        temp=temp[temp['Student']==name]['Total'].values\n",
    "        if len(temp)>0:\n",
    "            return temp[0]\n",
    "        else:\n",
    "            return 0\n",
    "    else:\n",
    "        raise ValueError('month spelled wrong')"
   ]
  },
  {
   "cell_type": "code",
   "execution_count": 8,
   "metadata": {},
   "outputs": [],
   "source": [
    "def get_count_task_won(name,data,month_name=None):\n",
    "    if month_name==None:\n",
    "        count=data[data['Task Winner']==1].groupby('Student')['Task Winner'].count().sort_values(ascending=False).\\\n",
    "        reset_index()\n",
    "        temp=count[count['Student']==name]['Task Winner'].values\n",
    "        if len(temp)>0:\n",
    "            return temp[0]\n",
    "        else:\n",
    "            return 0\n",
    "    elif month_name in months:\n",
    "        count=data[(data['Task Winner']==1) & (data['Month']==month_name)].groupby('Student')['Task Winner'].count().\\\n",
    "        reset_index()\n",
    "        temp=count[count['Student']==name]['Task Winner'].values\n",
    "        if len(temp)>0:\n",
    "            return temp[0]\n",
    "        else:\n",
    "            return 0\n",
    "    else:\n",
    "        raise ValueError('Month wrongly spelled')"
   ]
  }
 ],
 "metadata": {
  "kernelspec": {
   "display_name": "Python 3",
   "language": "python",
   "name": "python3"
  },
  "language_info": {
   "codemirror_mode": {
    "name": "ipython",
    "version": 3
   },
   "file_extension": ".py",
   "mimetype": "text/x-python",
   "name": "python",
   "nbconvert_exporter": "python",
   "pygments_lexer": "ipython3",
   "version": "3.6.8"
  }
 },
 "nbformat": 4,
 "nbformat_minor": 2
}
