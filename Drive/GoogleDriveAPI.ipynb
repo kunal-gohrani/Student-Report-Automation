{
 "cells": [
  {
   "cell_type": "code",
   "execution_count": null,
   "metadata": {},
   "outputs": [],
   "source": [
    "!pip install --upgrade google-api-python-client google-auth-httplib2 google-auth-oauthlib"
   ]
  },
  {
   "cell_type": "code",
   "execution_count": 7,
   "metadata": {},
   "outputs": [
    {
     "name": "stdout",
     "output_type": "stream",
     "text": [
      "Files:\n",
      "Student Gradebook (1HYjfEe3aCbufbqIXKs0Xz-gfoQNztGhCN1ivx0gZXnc)\n",
      "Copy of Student Gradebook - 31 August, 21:15 (1QsWugWF5fOFljzwGYlSOd3N8Lwj-0m_26m-ElqHaUGA)\n",
      "Untitled spreadsheet (1V_GwZ6PRcR-C5ibtEycz62Sj4kfxcVQ-wjbnm6xsf6U)\n",
      "data-cleaning.mp4 (1psKbinGm3rWoJsYyg3VegOyX2OCrw0Yn)\n",
      "data-wrangling-assessing.mp4 (1sli78cnmLS5eH96B0W9wKNZIiCmSpGD9)\n",
      "2019-08-14 18-34-38.flv (1Qt4m7DPMNmGxigI3rpNxIRcNgyPqgcOJ)\n",
      "ELIA5 Marksheet (1keNjZjxPR8dF9I7a5Ek1x8LayPaGSRjv8b1ChXkpd0o)\n",
      "MyWbut Training (1Gm7roH38mhHbbupEUmQVqMfiBtuw-MZ46vOk_fsGvms)\n",
      "Gradient Descent.docx (1iCJK05d4HoYW0qZ9dI4q2OQkfDeIXzfN)\n",
      "Copy of Gradient Descent (1f4crXwgTFSfm-l44wm88P2qc5UdntnOT8D_32ZoDkyM)\n"
     ]
    }
   ],
   "source": [
    "from __future__ import print_function\n",
    "import pickle\n",
    "import os.path\n",
    "from googleapiclient.discovery import build\n",
    "from google_auth_oauthlib.flow import InstalledAppFlow\n",
    "from google.auth.transport.requests import Request\n",
    "\n",
    "# If modifying these scopes, delete the file token.pickle.\n",
    "SCOPES = ['https://www.googleapis.com/auth/drive']\n",
    "\n",
    "def main():\n",
    "    \"\"\"Shows basic usage of the Drive v3 API.\n",
    "    Prints the names and ids of the first 10 files the user has access to.\n",
    "    \"\"\"\n",
    "    creds = None\n",
    "    # The file token.pickle stores the user's access and refresh tokens, and is\n",
    "    # created automatically when the authorization flow completes for the first\n",
    "    # time.\n",
    "    if os.path.exists('token.pickle'):\n",
    "        with open('token.pickle', 'rb') as token:\n",
    "            creds = pickle.load(token)\n",
    "    # If there are no (valid) credentials available, let the user log in.\n",
    "    if not creds or not creds.valid:\n",
    "        if creds and creds.expired and creds.refresh_token:\n",
    "            creds.refresh(Request())\n",
    "        else:\n",
    "            flow = InstalledAppFlow.from_client_secrets_file(\n",
    "                'client_secret.json', SCOPES)\n",
    "            try:\n",
    "                creds = flow.run_local_server(port=0)\n",
    "            except:\n",
    "                print('Some problem in authentication, please retry!')\n",
    "                return\n",
    "        # Save the credentials for the next run\n",
    "        with open('token.pickle', 'wb') as token:\n",
    "            pickle.dump(creds, token)\n",
    "\n",
    "    service = build('drive', 'v3', credentials=creds)\n",
    "\n",
    "    # Call the Drive v3 API\n",
    "    results = service.files().list(\n",
    "        pageSize=10, fields=\"nextPageToken, files(id, name)\").execute()\n",
    "    items = results.get('files', [])\n",
    "\n",
    "    if not items:\n",
    "        print('No files found.')\n",
    "    else:\n",
    "        print('Files:')\n",
    "        for item in items:\n",
    "            print(u'{0} ({1})'.format(item['name'], item['id']))\n",
    "\n",
    "if __name__ == '__main__':\n",
    "    main()"
   ]
  },
  {
   "cell_type": "code",
   "execution_count": 16,
   "metadata": {},
   "outputs": [],
   "source": [
    "searchfor='kunal'\n",
    "query_string=\"name='Student Gradebook',mimeType='application/vnd.google-apps.spreadsheet'\"\n",
    "query_string2=\"name='{}',mimeType='application/vnd.google-apps.spreadsheet'\".format(searchfor)\n",
    "a=\"name='Student Gradebook'\""
   ]
  },
  {
   "cell_type": "code",
   "execution_count": 17,
   "metadata": {},
   "outputs": [
    {
     "data": {
      "text/plain": [
       "\"name='kunal',mimeType='application/vnd.google-apps.spreadsheet'\""
      ]
     },
     "execution_count": 17,
     "metadata": {},
     "output_type": "execute_result"
    }
   ],
   "source": [
    "query_string2"
   ]
  },
  {
   "cell_type": "code",
   "execution_count": 25,
   "metadata": {},
   "outputs": [
    {
     "name": "stdout",
     "output_type": "stream",
     "text": [
      "C:\\Users\\gohra\\Student-Report-Automation\\Drive\n",
      "Found file: Student Gradebook ( 1HYjfEe3aCbufbqIXKs0Xz-gfoQNztGhCN1ivx0gZXnc )\n"
     ]
    }
   ],
   "source": [
    "import pickle\n",
    "import os.path\n",
    "from googleapiclient.discovery import build\n",
    "from google_auth_oauthlib.flow import InstalledAppFlow\n",
    "from google.auth.transport.requests import Request\n",
    "import os\n",
    "import GDriveAuthenticator\n",
    "print(os.getcwd())\n",
    "g=GDriveAuthenticator.GDriveAuthenticator('client_secret.json')\n",
    "creds=g.authenticate()\n",
    "class Gdrive:\n",
    "    def __init__(self,creds):\n",
    "        self.__creds=creds\n",
    "        self.drive_service = build('drive', 'v3', credentials=self.__creds)\n",
    "    def search(self,searchfor,**kwargs):\n",
    "        query_string=\"name='{}' and mimeType='application/vnd.google-apps.spreadsheet'\".format(searchfor)\n",
    "        page_token = None\n",
    "        while True:\n",
    "            response = self.drive_service.files().list(q=query_string,\\\n",
    "                                            fields='nextPageToken, files(id,name)',\\\n",
    "                                            pageToken=page_token).execute()\n",
    "            for file in response.get('files', []):\n",
    "                # Process change\n",
    "                print('Found file:',file.get('name'),'(',file.get('id'),')')\n",
    "            page_token = response.get('nextPageToken', None)\n",
    "            if page_token is None:\n",
    "                break\n",
    "f=Gdrive(creds)\n",
    "f.search('Student Gradebook')"
   ]
  },
  {
   "cell_type": "code",
   "execution_count": null,
   "metadata": {},
   "outputs": [],
   "source": [
    "\"\"\"name='\"\"\"+searchfor+\"\"\"'and mimeType='application/vnd.google-apps.spreadsheet'\"\"\""
   ]
  }
 ],
 "metadata": {
  "kernelspec": {
   "display_name": "Python 3",
   "language": "python",
   "name": "python3"
  },
  "language_info": {
   "codemirror_mode": {
    "name": "ipython",
    "version": 3
   },
   "file_extension": ".py",
   "mimetype": "text/x-python",
   "name": "python",
   "nbconvert_exporter": "python",
   "pygments_lexer": "ipython3",
   "version": "3.6.8"
  }
 },
 "nbformat": 4,
 "nbformat_minor": 2
}
